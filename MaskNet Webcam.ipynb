{
 "cells": [
  {
   "cell_type": "code",
   "execution_count": 1,
   "metadata": {},
   "outputs": [
    {
     "name": "stderr",
     "output_type": "stream",
     "text": [
      "Using TensorFlow backend.\n"
     ]
    }
   ],
   "source": [
    "import cv2 as cv\n",
    "import numpy as np\n",
    "import matplotlib.pyplot as plt\n",
    "\n",
    "from keras.models import load_model\n",
    "from keras.applications.mobilenet import preprocess_input\n",
    "\n",
    "dct = {1:'Unmasked', 0:'Masked'}\n",
    "\n",
    "model = load_model('MaskNetV2.hdf5')"
   ]
  },
  {
   "cell_type": "code",
   "execution_count": 2,
   "metadata": {},
   "outputs": [],
   "source": [
    "dct = {0:'Masked',1:'Unmasked'}\n",
    "\n",
    "cam = cv.VideoCapture(0)\n",
    "\n",
    "while True:\n",
    "    \n",
    "    _,frame = cam.read()\n",
    "    img = frame\n",
    "    \n",
    "    frame = cv.flip(frame,1)\n",
    "    frame = cv.cvtColor(frame,cv.COLOR_BGR2RGB)\n",
    "\n",
    "    \n",
    "    frame = cv.resize(frame, (224,224))\n",
    "    frame = preprocess_input(frame)\n",
    "    frame = np.expand_dims(frame, axis=0)\n",
    "    \n",
    "    prediction = np.argmax(model.predict(frame))\n",
    "    \n",
    "    if prediction == 0:\n",
    "        cv.putText(img,'Masked',(200,200),cv.FONT_HERSHEY_SCRIPT_COMPLEX, 4,(0,255,0))\n",
    "    \n",
    "    else:\n",
    "        cv.putText(img,'UnMasked',(200,200),cv.FONT_HERSHEY_SCRIPT_COMPLEX, 4,(0,0,255))\n",
    "    \n",
    "    cv.imshow('Image',img)\n",
    "           \n",
    "    key = cv.waitKey(30)\n",
    "    if key == 27:\n",
    "        break\n",
    "        "
   ]
  },
  {
   "cell_type": "code",
   "execution_count": null,
   "metadata": {},
   "outputs": [],
   "source": []
  },
  {
   "cell_type": "code",
   "execution_count": null,
   "metadata": {},
   "outputs": [],
   "source": []
  }
 ],
 "metadata": {
  "kernelspec": {
   "display_name": "Python 3",
   "language": "python",
   "name": "python3"
  },
  "language_info": {
   "codemirror_mode": {
    "name": "ipython",
    "version": 3
   },
   "file_extension": ".py",
   "mimetype": "text/x-python",
   "name": "python",
   "nbconvert_exporter": "python",
   "pygments_lexer": "ipython3",
   "version": "3.7.4"
  }
 },
 "nbformat": 4,
 "nbformat_minor": 2
}
